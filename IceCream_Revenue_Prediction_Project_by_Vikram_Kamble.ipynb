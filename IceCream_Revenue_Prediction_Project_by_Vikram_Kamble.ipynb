{
 "cells": [
  {
   "cell_type": "markdown",
   "id": "2e9675ea",
   "metadata": {},
   "source": [
    "\n",
    "Hey! So this is a small project I made where I tried to predict ice cream revenue based on temperature. I was just messing around with some machine learning stuff and thought this would be a fun and simple idea to try out.\n",
    "\n",
    "### What I did:\n",
    "- Got some basic data about temperature and how much ice cream was sold.\n",
    "- Used Python and some ML libraries (like pandas, matplotlib, and sklearn).\n",
    "- Cleaned up the data, did some plotting to see how things looked.\n",
    "- Then I trained a linear regression model to predict revenue from temperature.\n",
    "- Checked how well it worked using accuracy scores and graphs.\n",
    "\n",
    "### Tools I used:\n",
    "- Jupyter Notebook\n",
    "- Python\n",
    "- pandas, numpy, matplotlib, seaborn\n",
    "- sklearn (for training the model)\n",
    "\n",
    "### Why I did this:\n",
    "Honestly, I just wanted to get more comfortable with ML basics. Regression is like one of the first things you learn, so this was good practice for me. Plus, I like ice cream 😄\n",
    "\n",
    "If you're starting out with machine learning, this kind of small project is a great way to get hands-on. It’s super simple and actually kinda fun.\n"
   ]
  },
  {
   "cell_type": "markdown",
   "id": "3a14a629",
   "metadata": {},
   "source": [
    "# Ice Cream Revenue Prediction 🍦💰\n",
    "**Project:** Predicting ice cream sales based on temperature\n",
    "**Internship:** YBI Foundation AI/GenAI Internship\n",
    "**Author:** Vikram Kamble\n",
    "**Date:** June 17, 2025\n",
    "\n",
    "This project uses simple linear regression to predict the revenue of ice cream sales based on temperature. It's a great introduction to supervised learning and regression models."
   ]
  },
  {
   "cell_type": "markdown",
   "id": "b0913a1c",
   "metadata": {},
   "source": [
    "## 📥 Step 1: Import Libraries"
   ]
  },
  {
   "cell_type": "code",
   "execution_count": null,
   "id": "c80ac1a4",
   "metadata": {},
   "outputs": [],
   "source": [
    "import pandas as pd\n",
    "import matplotlib.pyplot as plt\n",
    "import seaborn as sns\n",
    "from sklearn.linear_model import LinearRegression\n",
    "from sklearn.model_selection import train_test_split\n",
    "from sklearn.metrics import mean_squared_error, r2_score"
   ]
  },
  {
   "cell_type": "markdown",
   "id": "cb42710c",
   "metadata": {},
   "source": [
    "## 📊 Step 2: Load Dataset"
   ]
  },
  {
   "cell_type": "code",
   "execution_count": null,
   "id": "ab22aa26",
   "metadata": {},
   "outputs": [],
   "source": [
    "# Sample data: Temperature vs Ice Cream Revenue\n",
    "data = {\n",
    "    'Temperature': [20, 22, 25, 27, 30, 31, 35, 36, 40, 42],\n",
    "    'Revenue': [180, 190, 220, 250, 280, 300, 340, 360, 400, 420]\n",
    "}\n",
    "df = pd.DataFrame(data)\n",
    "df.head()"
   ]
  },
  {
   "cell_type": "markdown",
   "id": "b12aec04",
   "metadata": {},
   "source": [
    "## 📈 Step 3: Data Visualization"
   ]
  },
  {
   "cell_type": "code",
   "execution_count": null,
   "id": "af99b98f",
   "metadata": {},
   "outputs": [],
   "source": [
    "sns.scatterplot(data=df, x='Temperature', y='Revenue')\n",
    "plt.title('Temperature vs Ice Cream Revenue')\n",
    "plt.xlabel('Temperature (°C)')\n",
    "plt.ylabel('Revenue (₹)')\n",
    "plt.show()"
   ]
  },
  {
   "cell_type": "markdown",
   "id": "f3839262",
   "metadata": {},
   "source": [
    "## 🔧 Step 4: Model Training"
   ]
  },
  {
   "cell_type": "code",
   "execution_count": null,
   "id": "f1fb1108",
   "metadata": {},
   "outputs": [],
   "source": [
    "X = df[['Temperature']]\n",
    "y = df['Revenue']\n",
    "X_train, X_test, y_train, y_test = train_test_split(X, y, test_size=0.2, random_state=42)\n",
    "model = LinearRegression()\n",
    "model.fit(X_train, y_train)"
   ]
  },
  {
   "cell_type": "markdown",
   "id": "f96144a4",
   "metadata": {},
   "source": [
    "## 🔍 Step 5: Model Evaluation"
   ]
  },
  {
   "cell_type": "code",
   "execution_count": null,
   "id": "7a22f8a0",
   "metadata": {},
   "outputs": [],
   "source": [
    "y_pred = model.predict(X_test)\n",
    "print('Mean Squared Error:', mean_squared_error(y_test, y_pred))\n",
    "print('R² Score:', r2_score(y_test, y_pred))"
   ]
  },
  {
   "cell_type": "markdown",
   "id": "75125f29",
   "metadata": {},
   "source": [
    "## 📤 Step 6: Prediction Example"
   ]
  },
  {
   "cell_type": "code",
   "execution_count": null,
   "id": "dc134d53",
   "metadata": {},
   "outputs": [],
   "source": [
    "temp_input = [[34]]\n",
    "revenue_prediction = model.predict(temp_input)\n",
    "print(f'Predicted revenue for 34°C: ₹{revenue_prediction[0]:.2f}')"
   ]
  },
  {
   "cell_type": "markdown",
   "id": "00a8c1f7",
   "metadata": {},
   "source": [
    "## 📝 Conclusion\n",
    "- As temperature increases, so does ice cream revenue.\n",
    "- The linear regression model gives a simple and effective way to predict outcomes.\n",
    "- Great starting project for understanding ML basics!"
   ]
  }
 ],
 "metadata": {},
 "nbformat": 4,
 "nbformat_minor": 5
}
